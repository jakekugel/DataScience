{
 "cells": [
  {
   "cell_type": "code",
   "execution_count": 9,
   "metadata": {
    "collapsed": false
   },
   "outputs": [],
   "source": [
    "from pandas import Series, DataFrame, pivot_table\n",
    "import numpy as np\n",
    "import numpy"
   ]
  },
  {
   "cell_type": "code",
   "execution_count": 10,
   "metadata": {
    "collapsed": false
   },
   "outputs": [
    {
     "name": "stdout",
     "output_type": "stream",
     "text": [
      "   Agent   Area Class  Income  Profit  Stock    Type Web\n",
      "0   Mike  North     a    20.0     1.0   20.0  square   Y\n",
      "1   John   East     b    40.0     2.0   23.0   round   N\n",
      "2   Pete  South     b    90.0     3.0   33.0  square   N\n",
      "3   Mike   West     a    20.0     4.0   43.0   round   Y\n",
      "4   John  North     a     NaN     1.0   12.0   round   Y\n",
      "5   Pete   East     b     NaN     2.0   21.0  square   N\n",
      "6   Mike  South     b     NaN     3.0  310.0   round   N\n",
      "7   John   West     a     NaN     4.0   41.0  square   Y\n",
      "8   Pete  North     a     NaN     1.0   11.0   round   Y\n",
      "9   Mike   East     b     NaN     2.0   21.0  square   N\n",
      "10  John  South     b     NaN     3.0   31.0   round   N\n",
      "11  Pete   West     a     NaN     4.0   41.0  square   Y\n",
      "12  John  South     a     NaN     1.0   11.0     NaN   Y\n",
      "13  Pete   West     b     NaN     2.0   22.0     NaN   N\n",
      "14  John  South     b     NaN     3.0   34.0     NaN   N\n",
      "15  Pete   West     b     NaN     4.0   54.0     NaN   Y\n"
     ]
    }
   ],
   "source": [
    "d = { 'Class'   : Series( ['a',  'b', 'b','a','a',  'b', 'b','a','a',  'b', 'b','a','a','b','b','b']),\n",
    "      'Area'   : Series( ['North','East', 'South', 'West','North','East', 'South', 'West','North','East', 'South', 'West','South', 'West','South', 'West']),\n",
    "      'Type' : Series( ['square', 'round','square', 'round', 'round', 'square', 'round', 'square', 'round', 'square','round', 'square',]),\n",
    "      'Web'  : Series( ['Y','N','N','Y','Y','N','N','Y','Y','N','N','Y','Y','N','N','Y']),\n",
    "      'Agent'   : Series( ['Mike',  'John', 'Pete','Mike',  'John', 'Pete','Mike',  'John', 'Pete','Mike',  'John', 'Pete','John', 'Pete','John', 'Pete']),\n",
    "      'Income'   : Series( [20., 40., 90., 20.]),\n",
    "      'Profit' : Series( [1., 2., 3., 4.,1., 2., 3., 4.,1., 2., 3., 4.,1., 2., 3., 4.]),\n",
    "      'Stock' : Series( [20., 23., 33., 43.,12., 21., 310., 41.,11., 21., 31., 41.,11., 22., 34., 54.] )\n",
    "     }\n",
    "df = DataFrame(d)\n",
    "print df"
   ]
  },
  {
   "cell_type": "code",
   "execution_count": 16,
   "metadata": {
    "collapsed": false
   },
   "outputs": [
    {
     "name": "stdout",
     "output_type": "stream",
     "text": [
      "Populating the interactive namespace from numpy and matplotlib\n"
     ]
    }
   ],
   "source": [
    "%pylab inline\n",
    "def interact( rows, values, aggfunc, plt=False):\n",
    "    dfp = df\n",
    "    piv = pivot_table( dfp, rows=rows, values=values, aggfunc=aggfunc)\n",
    "    print piv\n",
    "    if plt: plot( piv )"
   ]
  },
  {
   "cell_type": "code",
   "execution_count": 17,
   "metadata": {
    "collapsed": false
   },
   "outputs": [
    {
     "ename": "NameError",
     "evalue": "name 'SelectMultiple' is not defined",
     "output_type": "error",
     "traceback": [
      "\u001b[0;31m---------------------------------------------------------------------------\u001b[0m",
      "\u001b[0;31mNameError\u001b[0m                                 Traceback (most recent call last)",
      "\u001b[0;32m<ipython-input-17-20fd04099745>\u001b[0m in \u001b[0;36m<module>\u001b[0;34m()\u001b[0m\n\u001b[1;32m      1\u001b[0m i = interact( my_pivot,\n\u001b[0;32m----> 2\u001b[0;31m              \u001b[0mrows\u001b[0m    \u001b[0;34m=\u001b[0m \u001b[0mSelectMultiple\u001b[0m\u001b[0;34m(\u001b[0m\u001b[0moptions\u001b[0m\u001b[0;34m=\u001b[0m\u001b[0mlist\u001b[0m\u001b[0;34m(\u001b[0m\u001b[0mdf\u001b[0m\u001b[0;34m.\u001b[0m\u001b[0mcolumns\u001b[0m\u001b[0;34m)\u001b[0m\u001b[0;34m)\u001b[0m\u001b[0;34m,\u001b[0m\u001b[0;34m\u001b[0m\u001b[0m\n\u001b[0m\u001b[1;32m      3\u001b[0m              \u001b[0mvalues\u001b[0m  \u001b[0;34m=\u001b[0m \u001b[0mSelectMultiple\u001b[0m\u001b[0;34m(\u001b[0m\u001b[0moptions\u001b[0m\u001b[0;34m=\u001b[0m\u001b[0;34m[\u001b[0m\u001b[0;34m'Profit'\u001b[0m\u001b[0;34m,\u001b[0m \u001b[0;34m'Stock'\u001b[0m\u001b[0;34m]\u001b[0m\u001b[0;34m)\u001b[0m\u001b[0;34m,\u001b[0m\u001b[0;34m\u001b[0m\u001b[0m\n\u001b[1;32m      4\u001b[0m              aggfunc = SelectMultiple(options={ 'sum' : numpy.sum, 'ave' : numpy.average }))\n",
      "\u001b[0;31mNameError\u001b[0m: name 'SelectMultiple' is not defined"
     ]
    }
   ],
   "source": [
    "i = interact( my_pivot,\n",
    "             rows    = SelectMultiple(options=list(df.columns)), \n",
    "             values  = SelectMultiple(options=['Profit', 'Stock']),\n",
    "             aggfunc = SelectMultiple(options={ 'sum' : numpy.sum, 'ave' : numpy.average }))"
   ]
  },
  {
   "cell_type": "code",
   "execution_count": null,
   "metadata": {
    "collapsed": true
   },
   "outputs": [],
   "source": []
  }
 ],
 "metadata": {
  "kernelspec": {
   "display_name": "Python 2",
   "language": "python",
   "name": "python2"
  },
  "language_info": {
   "codemirror_mode": {
    "name": "ipython",
    "version": 2
   },
   "file_extension": ".py",
   "mimetype": "text/x-python",
   "name": "python",
   "nbconvert_exporter": "python",
   "pygments_lexer": "ipython2",
   "version": "2.7.11"
  }
 },
 "nbformat": 4,
 "nbformat_minor": 0
}
